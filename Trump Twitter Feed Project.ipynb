{
 "cells": [
  {
   "cell_type": "markdown",
   "metadata": {},
   "source": [
    "In this project, datetime and matplotlib are being used to plot the number of Donald's tweets versus the a.) date, b.) day of the week and c.) time of the day. Also, his most used words have been analyzed. \n",
    "\n",
    "1.First, to get his tweets, a loop has been created to hit the twitter API multiple times (since he's got a lot of tweets and Twitter has a limit to the amount of tweets that I can request at once.) This next code gets all of these tweets and save them to a file called new_tweets.json:"
   ]
  },
  {
   "cell_type": "code",
   "execution_count": 49,
   "metadata": {},
   "outputs": [
    {
     "name": "stdout",
     "output_type": "stream",
     "text": [
      "newest_tweet The Fake Mainstream Media has, from the time I announced I was running for President, run the most highly sophistic… https://t.co/sLngXtjuiV Tue May 29 13:30:24 +0000 2018\n",
      "\n",
      "oldest_tweet HAPPY PRESIDENTS DAY - MAKE AMERICA GREAT AGAIN! Mon Feb 20 14:33:33 +0000 2017\n"
     ]
    }
   ],
   "source": [
    "import twurl2\n",
    "import json\n",
    "import hidden\n",
    "\n",
    "outfile = open('new_tweets.json', 'w')\n",
    "wrap_list=[] #since I need to make a twitter API call repeatedly I will wrap the JSON info into a list\n",
    "\n",
    "TWITTER_URL = 'https://api.twitter.com/1.1/statuses/user_timeline.json'\n",
    "acct = 'realdonaldtrump'\n",
    "twittercount=200 #pull 200 tweets at a time (the max)\n",
    "secrets = hidden.oauth()\n",
    "full_url=''.join([TWITTER_URL,'?','count=',str(twittercount),'&', 'screen_name=', acct])\n",
    "user_timeline = twurl2.oauth_req( full_url, secrets['token_key'], secrets['token_secret'], \"GET\" )\n",
    "js=json.loads(user_timeline)\n",
    "wrap_list.append(js)\n",
    "\n",
    "#twitter gives an ID with each tweet...keep hitting the twitter API until you run out of new IDs\n",
    "old_max_id=0\n",
    "max_id=js[len(js) - 1]['id']\n",
    "\n",
    "while old_max_id!=max_id:\n",
    "    old_max_id=max_id\n",
    "    full_url=''.join([TWITTER_URL,'?','count=',str(twittercount),'&', 'screen_name=', acct, '&', 'max_id=', str(max_id)])\n",
    "    user_timeline = twurl2.oauth_req( full_url, secrets['token_key'], secrets['token_secret'], \"GET\" )\n",
    "    js = json.loads(user_timeline)\n",
    "\n",
    "    max_id=js[len(js) - 1]['id']\n",
    "    wrap_list.append(js)\n",
    "\n",
    "json.dump(wrap_list, outfile)\n",
    "outfile.close()\n",
    "\n",
    "print('newest_tweet', wrap_list[0][0]['text'],wrap_list[0][0]['created_at'])\n",
    "print('')\n",
    "print('oldest_tweet', wrap_list[-1][0]['text'],wrap_list[-1][0]['created_at'])"
   ]
  },
  {
   "cell_type": "markdown",
   "metadata": {},
   "source": [
    "2.Merge with older lists to get a complete data set."
   ]
  },
  {
   "cell_type": "code",
   "execution_count": 50,
   "metadata": {},
   "outputs": [
    {
     "name": "stdout",
     "output_type": "stream",
     "text": [
      "number of unique tweets 6323\n"
     ]
    }
   ],
   "source": [
    "import json\n",
    "\n",
    "js=[]\n",
    "\n",
    "#load older tweets\n",
    "with open('old_tweets.json') as json_data1:\n",
    "    js1 = json.load(json_data1)\n",
    "\n",
    "#load newer tweets\n",
    "with open('new_tweets.json') as json_data2:\n",
    "    js2 = json.load(json_data2)\n",
    "\n",
    "#merge both tweets\n",
    "for j in range(len(js1)):\n",
    "    js.append(js1[j])\n",
    "\n",
    "for j in range(len(js2)):\n",
    "    for i in range(len(js2[j])):\n",
    "        js.append(js2[j][i])\n",
    "\n",
    "#delete duplicates based on creation time\n",
    "datelist=[]\n",
    "count=0\n",
    "dups_removed=[]\n",
    "\n",
    "for j in range(len(js)):\n",
    "    date=js[j]['created_at']\n",
    "    if date not in datelist: #remove duplicates\n",
    "        datelist.append(date)\n",
    "        count = count + 1\n",
    "        dups_removed.append(js[j])\n",
    "\n",
    "#update donalddata.json to include all non-duplicate tweets\n",
    "outfile = open('donalddata.json', 'w')\n",
    "json.dump(dups_removed, outfile)\n",
    "outfile.close()\n",
    "\n",
    "print('number of unique tweets', count)"
   ]
  },
  {
   "cell_type": "markdown",
   "metadata": {},
   "source": [
    "3.Load the donalddata.json data that has just being created back in in json format."
   ]
  },
  {
   "cell_type": "markdown",
   "metadata": {},
   "source": [
    "4.Create three lists for the tweet texts, created_at, and number_of_retweets data. Then store them in a single pandas dataframe called df."
   ]
  },
  {
   "cell_type": "code",
   "execution_count": 52,
   "metadata": {},
   "outputs": [
    {
     "data": {
      "text/html": [
       "<div>\n",
       "<style>\n",
       "    .dataframe thead tr:only-child th {\n",
       "        text-align: right;\n",
       "    }\n",
       "\n",
       "    .dataframe thead th {\n",
       "        text-align: left;\n",
       "    }\n",
       "\n",
       "    .dataframe tbody tr th {\n",
       "        vertical-align: top;\n",
       "    }\n",
       "</style>\n",
       "<table border=\"1\" class=\"dataframe\">\n",
       "  <thead>\n",
       "    <tr style=\"text-align: right;\">\n",
       "      <th></th>\n",
       "      <th>created_at</th>\n",
       "      <th>retweet_count</th>\n",
       "      <th>text</th>\n",
       "    </tr>\n",
       "  </thead>\n",
       "  <tbody>\n",
       "    <tr>\n",
       "      <th>0</th>\n",
       "      <td>Thu Mar 23 01:04:32 +0000 2017</td>\n",
       "      <td>2896</td>\n",
       "      <td>RT @mitchellvii: Trump always ends up being ri...</td>\n",
       "    </tr>\n",
       "    <tr>\n",
       "      <th>1</th>\n",
       "      <td>Thu Mar 23 01:03:18 +0000 2017</td>\n",
       "      <td>1625</td>\n",
       "      <td>RT @mitchellvii: EXACTLY AS I SAID - House Int...</td>\n",
       "    </tr>\n",
       "    <tr>\n",
       "      <th>2</th>\n",
       "      <td>Wed Mar 22 13:09:35 +0000 2017</td>\n",
       "      <td>10233</td>\n",
       "      <td>Big day for healthcare. Working hard!</td>\n",
       "    </tr>\n",
       "    <tr>\n",
       "      <th>3</th>\n",
       "      <td>Tue Mar 21 18:12:05 +0000 2017</td>\n",
       "      <td>13207</td>\n",
       "      <td>Today on #NationalAgDay, we honor our great Am...</td>\n",
       "    </tr>\n",
       "    <tr>\n",
       "      <th>4</th>\n",
       "      <td>Tue Mar 21 17:33:23 +0000 2017</td>\n",
       "      <td>13448</td>\n",
       "      <td>Honored to sign S.442 today. With this legisla...</td>\n",
       "    </tr>\n",
       "  </tbody>\n",
       "</table>\n",
       "</div>"
      ],
      "text/plain": [
       "                       created_at  retweet_count  \\\n",
       "0  Thu Mar 23 01:04:32 +0000 2017           2896   \n",
       "1  Thu Mar 23 01:03:18 +0000 2017           1625   \n",
       "2  Wed Mar 22 13:09:35 +0000 2017          10233   \n",
       "3  Tue Mar 21 18:12:05 +0000 2017          13207   \n",
       "4  Tue Mar 21 17:33:23 +0000 2017          13448   \n",
       "\n",
       "                                                text  \n",
       "0  RT @mitchellvii: Trump always ends up being ri...  \n",
       "1  RT @mitchellvii: EXACTLY AS I SAID - House Int...  \n",
       "2              Big day for healthcare. Working hard!  \n",
       "3  Today on #NationalAgDay, we honor our great Am...  \n",
       "4  Honored to sign S.442 today. With this legisla...  "
      ]
     },
     "execution_count": 52,
     "metadata": {},
     "output_type": "execute_result"
    }
   ],
   "source": [
    "#insert 4\n",
    "import pandas as pd\n",
    "text = []\n",
    "created_at = []\n",
    "retweet_count = []\n",
    "\n",
    "for i in range(len(data)):\n",
    "    text.append(data[i]['text'])\n",
    "    created_at.append(data[i]['created_at'])\n",
    "    retweet_count.append(data[i]['retweet_count'])\n",
    "\n",
    "df = pd.DataFrame({'text':text, 'created_at':created_at,'retweet_count':retweet_count})\n",
    "df.head()"
   ]
  },
  {
   "cell_type": "markdown",
   "metadata": {},
   "source": [
    "5.Which did the tweet that had the most retweets say? "
   ]
  },
  {
   "cell_type": "code",
   "execution_count": 53,
   "metadata": {},
   "outputs": [
    {
     "data": {
      "text/plain": [
       "'#FraudNewsCNN #FNN https://t.co/WYUnHjjUjg'"
      ]
     },
     "execution_count": 53,
     "metadata": {},
     "output_type": "execute_result"
    }
   ],
   "source": [
    "#insert 5\n",
    "df.loc[df['retweet_count'].idxmax()]['text']"
   ]
  },
  {
   "cell_type": "markdown",
   "metadata": {},
   "source": [
    "6.Convert the Twitter data (in UTC time) to Eastern Time Zone time. Create a new column called eastern_time_zone:"
   ]
  },
  {
   "cell_type": "code",
   "execution_count": 54,
   "metadata": {},
   "outputs": [
    {
     "data": {
      "text/html": [
       "<div>\n",
       "<style>\n",
       "    .dataframe thead tr:only-child th {\n",
       "        text-align: right;\n",
       "    }\n",
       "\n",
       "    .dataframe thead th {\n",
       "        text-align: left;\n",
       "    }\n",
       "\n",
       "    .dataframe tbody tr th {\n",
       "        vertical-align: top;\n",
       "    }\n",
       "</style>\n",
       "<table border=\"1\" class=\"dataframe\">\n",
       "  <thead>\n",
       "    <tr style=\"text-align: right;\">\n",
       "      <th></th>\n",
       "      <th>created_at</th>\n",
       "      <th>retweet_count</th>\n",
       "      <th>text</th>\n",
       "      <th>eastern_time_zone</th>\n",
       "    </tr>\n",
       "  </thead>\n",
       "  <tbody>\n",
       "    <tr>\n",
       "      <th>0</th>\n",
       "      <td>Thu Mar 23 01:04:32 +0000 2017</td>\n",
       "      <td>2896</td>\n",
       "      <td>RT @mitchellvii: Trump always ends up being ri...</td>\n",
       "      <td>2017-03-22 21:04:32-04:00</td>\n",
       "    </tr>\n",
       "    <tr>\n",
       "      <th>1</th>\n",
       "      <td>Thu Mar 23 01:03:18 +0000 2017</td>\n",
       "      <td>1625</td>\n",
       "      <td>RT @mitchellvii: EXACTLY AS I SAID - House Int...</td>\n",
       "      <td>2017-03-22 21:03:18-04:00</td>\n",
       "    </tr>\n",
       "    <tr>\n",
       "      <th>2</th>\n",
       "      <td>Wed Mar 22 13:09:35 +0000 2017</td>\n",
       "      <td>10233</td>\n",
       "      <td>Big day for healthcare. Working hard!</td>\n",
       "      <td>2017-03-22 09:09:35-04:00</td>\n",
       "    </tr>\n",
       "    <tr>\n",
       "      <th>3</th>\n",
       "      <td>Tue Mar 21 18:12:05 +0000 2017</td>\n",
       "      <td>13207</td>\n",
       "      <td>Today on #NationalAgDay, we honor our great Am...</td>\n",
       "      <td>2017-03-21 14:12:05-04:00</td>\n",
       "    </tr>\n",
       "    <tr>\n",
       "      <th>4</th>\n",
       "      <td>Tue Mar 21 17:33:23 +0000 2017</td>\n",
       "      <td>13448</td>\n",
       "      <td>Honored to sign S.442 today. With this legisla...</td>\n",
       "      <td>2017-03-21 13:33:23-04:00</td>\n",
       "    </tr>\n",
       "  </tbody>\n",
       "</table>\n",
       "</div>"
      ],
      "text/plain": [
       "                       created_at  retweet_count  \\\n",
       "0  Thu Mar 23 01:04:32 +0000 2017           2896   \n",
       "1  Thu Mar 23 01:03:18 +0000 2017           1625   \n",
       "2  Wed Mar 22 13:09:35 +0000 2017          10233   \n",
       "3  Tue Mar 21 18:12:05 +0000 2017          13207   \n",
       "4  Tue Mar 21 17:33:23 +0000 2017          13448   \n",
       "\n",
       "                                                text         eastern_time_zone  \n",
       "0  RT @mitchellvii: Trump always ends up being ri... 2017-03-22 21:04:32-04:00  \n",
       "1  RT @mitchellvii: EXACTLY AS I SAID - House Int... 2017-03-22 21:03:18-04:00  \n",
       "2              Big day for healthcare. Working hard! 2017-03-22 09:09:35-04:00  \n",
       "3  Today on #NationalAgDay, we honor our great Am... 2017-03-21 14:12:05-04:00  \n",
       "4  Honored to sign S.442 today. With this legisla... 2017-03-21 13:33:23-04:00  "
      ]
     },
     "execution_count": 54,
     "metadata": {},
     "output_type": "execute_result"
    }
   ],
   "source": [
    "import datetime\n",
    "import pytz\n",
    "from dateutil.parser import parse\n",
    "\n",
    "tz = pytz.timezone('US/Eastern')\n",
    "\n",
    "time_zone = []\n",
    "for j in range(len(data)):\n",
    "    time_zone.append(parse(data[j]['created_at']).astimezone(tz))\n",
    "    \n",
    "df['eastern_time_zone'] = time_zone\n",
    "\n",
    "df.head()"
   ]
  },
  {
   "cell_type": "markdown",
   "metadata": {},
   "source": [
    "7.Create a new column that includes just the hour of each tweets (use pandas built in datetime capabilities to do this in one line). Then plot a histogram of the date versus the number of tweets on that date. "
   ]
  },
  {
   "cell_type": "code",
   "execution_count": 55,
   "metadata": {},
   "outputs": [
    {
     "data": {
      "image/png": "[encoded data removed]",
      "text/plain": [
       "<matplotlib.figure.Figure at 0x12f736400>"
      ]
     },
     "metadata": {},
     "output_type": "display_data"
    }
   ],
   "source": [
    "#insert 7\n",
    "import numpy as np\n",
    "import pandas as pd\n",
    "import matplotlib.pyplot as plt\n",
    "%matplotlib inline\n",
    "\n",
    "df['hour'] = df['eastern_time_zone'].dt.hour\n",
    "df.hour.plot.hist(rwidth=.9, bins=np.arange(-.5,24.5,1))\n",
    "plt.xlabel('hour')\n",
    "plt.ylabel('number of tweets')\n",
    "plt.xticks(np.arange(0,24,1))\n",
    "plt.show()"
   ]
  },
  {
   "cell_type": "markdown",
   "metadata": {},
   "source": [
    "8.From the graph above, which hour does he tweet at most often?"
   ]
  },
  {
   "cell_type": "code",
   "execution_count": 56,
   "metadata": {
    "collapsed": true
   },
   "outputs": [],
   "source": [
    "#insert 8\n",
    "#hour 8"
   ]
  },
  {
   "cell_type": "markdown",
   "metadata": {},
   "source": [
    "9.How many tweets has he sent between midnight and 4:00 am in this dataset?"
   ]
  },
  {
   "cell_type": "code",
   "execution_count": 57,
   "metadata": {},
   "outputs": [
    {
     "data": {
      "text/plain": [
       "created_at           158\n",
       "retweet_count        158\n",
       "text                 158\n",
       "eastern_time_zone    158\n",
       "hour                 158\n",
       "dtype: int64"
      ]
     },
     "execution_count": 57,
     "metadata": {},
     "output_type": "execute_result"
    }
   ],
   "source": [
    "#insert 9\n",
    "df[(df['hour'] >= 0) & (df['hour'] <= 4)].count()"
   ]
  },
  {
   "cell_type": "markdown",
   "metadata": {},
   "source": [
    "10.Make a histogram of day of week vs number of tweets using pandas built in datetime capabilities. Recall that Monday corresponds to 0. \n",
    "\n",
    "Change the x-axis labels so that you see \"Mon, Tues, etc.\" instead of \"0,1,2....\"\n",
    "\n",
    "Make sure the bins and the labels are centered nicely."
   ]
  },
  {
   "cell_type": "code",
   "execution_count": 58,
   "metadata": {},
   "outputs": [
    {
     "data": {
      "image/png": "[encoded data removed]",
      "text/plain": [
       "<matplotlib.figure.Figure at 0x11a2bd550>"
      ]
     },
     "metadata": {},
     "output_type": "display_data"
    }
   ],
   "source": [
    "#insert 10\n",
    "df['day of week'] = df['eastern_time_zone'].dt.weekday\n",
    "df['day of week'].plot.hist(rwidth=.7, bins=np.arange(-.5,7.5,1))\n",
    "plt.xlabel('day of week')\n",
    "plt.ylabel('number of tweets')\n",
    "x = df['day of week']\n",
    "plt.xticks(np.arange(7), ('Mon', 'Tues', 'Wed', 'Thurs', 'Fri','Sat','Sun'))\n",
    "plt.show()"
   ]
  },
  {
   "cell_type": "markdown",
   "metadata": {},
   "source": [
    "11.Next, make a bar chart for date versus number of tweets. This will take a couple of steps. First, create a dictionary called count_days such that the key is the date (just the month-day-year - not the hour or other stuff - you can do this easily) and the value is the number of tweets on that date. "
   ]
  },
  {
   "cell_type": "code",
   "execution_count": 59,
   "metadata": {
    "collapsed": true
   },
   "outputs": [],
   "source": [
    "#insert 11\n",
    "from collections import Counter\n",
    "df['date'] = df['eastern_time_zone'].dt.date\n",
    "count_days = Counter(df['date'])"
   ]
  },
  {
   "cell_type": "markdown",
   "metadata": {},
   "source": [
    "12.Next, plot this dictionary using a histogram."
   ]
  },
  {
   "cell_type": "code",
   "execution_count": 60,
   "metadata": {},
   "outputs": [
    {
     "data": {
      "text/plain": [
       "<Container object of 785 artists>"
      ]
     },
     "execution_count": 60,
     "metadata": {},
     "output_type": "execute_result"
    },
    {
     "data": {
      "image/png": "[encoded data removed]",
      "text/plain": [
       "<matplotlib.figure.Figure at 0x11cc5f780>"
      ]
     },
     "metadata": {},
     "output_type": "display_data"
    }
   ],
   "source": [
    "#insert 12\n",
    "import pylab as pl\n",
    "import numpy as np\n",
    "\n",
    "plt.rcParams['figure.figsize'] = [10, 5]\n",
    "plt.bar(list(count_days.keys()),count_days.values())\n",
    "#X = np.arange(len(count_days))\n",
    "#pl.bar(list(count_days.keys()), count_days.values(), align='center', width=0.5)\n",
    "#pl.xticks(list(count_days.keys()), count_days.keys())\n",
    "#ymax = max(count_days.values()) + 1\n",
    "#pl.ylim(0, ymax)\n",
    "#pl.show()"
   ]
  },
  {
   "cell_type": "markdown",
   "metadata": {},
   "source": [
    "13.On which date did he tweet the most?"
   ]
  },
  {
   "cell_type": "code",
   "execution_count": 61,
   "metadata": {},
   "outputs": [
    {
     "data": {
      "text/plain": [
       "datetime.date(2016, 10, 19)"
      ]
     },
     "execution_count": 61,
     "metadata": {},
     "output_type": "execute_result"
    }
   ],
   "source": [
    "#insert 13\n",
    "count_days.most_common()[0][0]"
   ]
  },
  {
   "cell_type": "markdown",
   "metadata": {},
   "source": [
    "14.What were the texts of those tweets on that date?"
   ]
  },
  {
   "cell_type": "markdown",
   "metadata": {},
   "source": [
    "15.Now we'll explore Trump's most frequently used words. To do this, create a loop that iterates through each tweet text and saves them all to one long string called \"all_tweets\"."
   ]
  },
  {
   "cell_type": "code",
   "execution_count": 63,
   "metadata": {
    "collapsed": true
   },
   "outputs": [],
   "source": [
    "#insert 15\n",
    "all_tweets = ''\n",
    "for i in df.text:\n",
    "    all_tweets += i"
   ]
  },
  {
   "cell_type": "markdown",
   "metadata": {},
   "source": [
    "16.Make the entire string lower case (since we want Hillary and hillary to be equivalent) and resave it as \"cleaned_tweets\"."
   ]
  },
  {
   "cell_type": "code",
   "execution_count": 64,
   "metadata": {
    "collapsed": true
   },
   "outputs": [],
   "source": [
    "#insert 16\n",
    "cleaned_tweets = all_tweets.lower()"
   ]
  },
  {
   "cell_type": "markdown",
   "metadata": {},
   "source": [
    "17.Also, we'll want to strip all of the punctuation."
   ]
  },
  {
   "cell_type": "code",
   "execution_count": 65,
   "metadata": {},
   "outputs": [
    {
     "data": {
      "text/plain": [
       "'rt mitchellvii trump always ends up being right  its almost a little freakyrt mitchellvii exactly as'"
      ]
     },
     "execution_count": 65,
     "metadata": {},
     "output_type": "execute_result"
    }
   ],
   "source": [
    "import string\n",
    "cleaned_tweets = cleaned_tweets.translate(str.maketrans('','',string.punctuation))\n",
    "cleaned_tweets[0:100]"
   ]
  },
  {
   "cell_type": "markdown",
   "metadata": {},
   "source": [
    "18.Create a dictionary called counts whose key is each word and whose value is the number of times that that word occurs."
   ]
  },
  {
   "cell_type": "markdown",
   "metadata": {},
   "source": [
    "19.Create a sorted list of tuples called tuple_list in reverse order of his most frequently used words. Only print the words that occur at least ten times."
   ]
  },
  {
   "cell_type": "markdown",
   "metadata": {},
   "source": [
    "20.One last thing...word cloud visualizations are kind of a hot thing right now. Let's make one, but get rid of the boring words like \"the\" that aren't very interesting. Recreate the count dictionary in number 18 above but add keys that are not in the boring list below:\n",
    "\n",
    "boring_words=['at', 'be','was', 'by', 'our','do','so','amp','by','it','its','at','by' 'from', 'as', 'but','am','of', 'a', 'you', 'on', 'the', 'is', 'to', 'and', 'in', 'has', 'are', 'not', 'an', 'in', 'or', 'for', 'who', 'that', 'have', 'there', 'just', 'their', 'were', 'what' , 'with', 'will', 'than', 'about', 'this','if','from','would','been','had']\n",
    "\n"
   ]
  },
  {
   "cell_type": "markdown",
   "metadata": {},
   "source": [
    "21.We'll save the words and their frequencies to a javascript file that we can view on a webpage. Here's the code.\n"
   ]
  },
  {
   "cell_type": "code",
   "execution_count": 69,
   "metadata": {
    "scrolled": false
   },
   "outputs": [
    {
     "name": "stdout",
     "output_type": "stream",
     "text": [
      "Output written to donaldwords.js\n"
     ]
    }
   ],
   "source": [
    "# ##########################################\n",
    "#plot counts using d3, to view the visualization open the twitterword.htm file in a web browser\n",
    "# ##########################################\n",
    "x = sorted(counts, key=counts.get, reverse=True)\n",
    "highest = None\n",
    "lowest = None\n",
    "for k in x[:100]:\n",
    "    if highest is None or highest < counts[k] :\n",
    "        highest = counts[k]\n",
    "    if lowest is None or lowest > counts[k] :\n",
    "        lowest = counts[k]\n",
    "\n",
    "# Spread the font sizes across 20-100 based on the count\n",
    "bigsize = 80\n",
    "smallsize = 20\n",
    "\n",
    "fhand = open('donaldwords.js','w')\n",
    "fhand.write(\"donaldwords = [\")\n",
    "first = True\n",
    "for k in x[:100]:\n",
    "    if not first : fhand.write( \",\\n\")\n",
    "    first = False\n",
    "    size = counts[k]\n",
    "    size = (size - lowest) / float(highest - lowest)\n",
    "    size = int((size * bigsize) + smallsize)\n",
    "    fhand.write(\"{text: '\"+k+\"', size: \"+str(size)+\"}\")\n",
    "fhand.write( \"\\n];\\n\")\n",
    "\n",
    "print (\"Output written to donaldwords.js\")\n"
   ]
  },
  {
   "cell_type": "markdown",
   "metadata": {},
   "source": [
    "22.Now open the twitterword.html file in a web browser to view the word cloud. Take a screenshot of it and save it as twitter.jpg. Then run the code to see the screenshot below."
   ]
  },
  {
   "cell_type": "markdown",
   "metadata": {},
   "source": [
    "double click into this cell and then run it\n",
    "<img src=\"twitter.jpg\" style=\"width: 200px;\"/>"
   ]
  },
  {
   "cell_type": "markdown",
   "metadata": {},
   "source": [
    "23.The word cloud was created using the D3 JavaScript library for visualizing data. It is super hot right now! You could pretty much get hired right now if you are good with it. Check out some other visualizations you can do with it here:\n",
    "\n",
    "https://github.com/d3/d3/wiki/Gallery\n"
   ]
  },
  {
   "cell_type": "markdown",
   "metadata": {},
   "source": [
    "### Chatbot\n",
    "24.Now let's make a Donald Trump chatbot that uses his previous tweets to create new tweets. We'll go back to the string all_tweets that contains all of his tweets before punctuation is removed.\n",
    "\n",
    "First, we'll remove certain punctuation (and hashtags and hyperlinks) and put spaces between other punctuation. We can do that most easily using regular expressions. The regular expression package is very powerful - there are loads of online tutorials for using regular expressions to manipulate strings. I highly recommend reading about them. But in the meantime, you can just read my code carefully below and run the code:"
   ]
  },
  {
   "cell_type": "code",
   "execution_count": 70,
   "metadata": {
    "collapsed": true
   },
   "outputs": [],
   "source": [
    "import re\n",
    "\n",
    "all_tweets = re.sub(r\"http\\S+\", \"\", all_tweets) #remove hyperlinks\n",
    "all_tweets = re.sub(r\"amp\\S+\", \"\", all_tweets) #remove ampersand symbol\n",
    "all_tweets = re.sub(r\"\\t\", \"\", all_tweets)  # remove tabs\n",
    "all_tweets = re.sub(r\"\\v\", \"\", all_tweets)  # remove vertical space\n",
    "all_tweets = re.sub(r\"\\r\", \"\", all_tweets)  # remove carriage return\n",
    "all_tweets = re.sub(r\"\\n\", \"\", all_tweets)  # remove new lines\n",
    "all_tweets = re.sub(r\"\\(\", \"\", all_tweets)  # remove parenthesis\n",
    "all_tweets = re.sub(r\"\\)\", \"\", all_tweets)  # remove parenthesis\n",
    "all_tweets = re.sub(r\"\\.\\.\\.\", \"\", all_tweets)  # remove ...\n",
    "all_tweets = re.sub(r\"\\. \\. \\. \", \"\", all_tweets)  # remove . . .\n",
    "all_tweets = re.sub(r\"\\\"\", \"\", all_tweets)  # remove quotations\n",
    "all_tweets = re.sub(r\"!\", \"! \", all_tweets)  # insert space after !\n",
    "all_tweets = re.sub(r\"\\.\", \". \", all_tweets)  # insert space after .\n",
    "all_tweets = re.sub(r\"\\?\", \"? \", all_tweets)  # insert space after ?\n",
    "all_tweets = all_tweets.lower()"
   ]
  },
  {
   "cell_type": "markdown",
   "metadata": {},
   "source": [
    "25.Split the string all_tweets into a list of words called words. Remove words that contain just punctuation in the following list:\n",
    "\n",
    "bad_words=['…', '.', '!', '?', ',']"
   ]
  },
  {
   "cell_type": "markdown",
   "metadata": {},
   "source": [
    "26.Okay, now gets to the fun part where we actually get to make a chatbot. We'll do this using Markov chains. A Markov chain is a randomly determined model describing a sequence of possible events in which the probability of each event depends only on the state attained in the previous event. What does this mean?\n",
    "\n",
    "We'll make a key-value dictionary where each key is a two word phrase and each value is a list containing all the possible single words that come after that phrase. Here's a concrete example. Read it carefully, paying special attention to the \"and i\" phrase.\n",
    "\n",
    "\"hi my name is Al and i live in a box that i like very much and i can live in there as long as i want\"\n",
    "\n",
    "\"hi my\" -> [\"name\"]\n",
    "\n",
    "\"my name\" -> [\"is\"]\n",
    "\n",
    "\"name is\" -> [\"Al\"]\n",
    "\n",
    "\"is Al\" -> [\"and\"]\n",
    "\n",
    "\"Al and\" -> [\"i\"]\n",
    "\n",
    "\"and i\" -> [\"live\"]\n",
    "\n",
    "........\n",
    "\n",
    "\"and i\" -> [\"live\", \"can\"]\n",
    "\n",
    "........\n",
    "\n",
    "\"i can\" -> [\"live\"]\n",
    "\n",
    "......\n",
    "\n",
    "Make a dictionary that does this type of Markov chain for all_tweets called word_dict below. Here are a few helpful hints:\n",
    "\n",
    "You can't iterate ALL the way until the end of the list (or else you'll go out of index). You may need to stop a few words short.\n",
    "\n",
    "For each new two word phrase, store the first word value to a LIST. Then, if that two word phrase comes around again, you can append the next possible word to that list."
   ]
  },
  {
   "cell_type": "markdown",
   "metadata": {},
   "source": [
    "27.Now randomly choose a key (two word phrase) to start with and then take that key and print a random value of that key (single word that follows). To do this, go back to Unit 4 to remember how to use random.choice and random.randint.\n",
    "\n",
    "Create a string called new_tweet that contains the random initial starting phrase (called starting_phrase) and the following word, with a space in between.\n",
    "\n",
    "Capitalize the starting word (hint: use .capitalize())"
   ]
  },
  {
   "cell_type": "code",
   "execution_count": 73,
   "metadata": {},
   "outputs": [
    {
     "name": "stdout",
     "output_type": "stream",
     "text": [
      "Being charged. please\n"
     ]
    }
   ],
   "source": [
    "#insert 27\n",
    "import random\n",
    "starting_phrase = random.choice(list(word_dict))\n",
    "word = random.choice(word_dict[starting_phrase])\n",
    "new_tweet = str(starting_phrase+' '+word).capitalize()\n",
    "print(new_tweet)"
   ]
  },
  {
   "cell_type": "markdown",
   "metadata": {},
   "source": [
    "28.Update the starting_phrase to now be the last two words of the string, with a space in between."
   ]
  },
  {
   "cell_type": "code",
   "execution_count": 74,
   "metadata": {},
   "outputs": [
    {
     "name": "stdout",
     "output_type": "stream",
     "text": [
      "charged. please\n"
     ]
    }
   ],
   "source": [
    "#insert 28\n",
    "starting_phrase = new_tweet.split()[-2]+' '+new_tweet.split()[-1]\n",
    "print(starting_phrase)"
   ]
  },
  {
   "cell_type": "markdown",
   "metadata": {},
   "source": [
    "29.While the new tweet is less than 140 characters, create a loop that continues to add new words to the new_tweet string by generating a new random number and a new word that follows the last starting_phrase. Each time through the loop, update the starting phrase.\n",
    "\n",
    "Note: You will need to use a try/except because not all pairs of words that you put together are in the word_dict. If you get to a pair that isn't in the word dict, proceed as follows:\n",
    "\n",
    "\n",
    "a.If the pair ends in a period, simply end the sentence.\n",
    "\n",
    "b. If the pair does not end in a period, generate a new random starting phrase and continue creating a new sentence."
   ]
  },
  {
   "cell_type": "code",
   "execution_count": 77,
   "metadata": {},
   "outputs": [
    {
     "name": "stdout",
     "output_type": "stream",
     "text": [
      "Knowledge, is the genesis of this presidency aren't reported about.\n"
     ]
    }
   ],
   "source": [
    "#insert 29\n",
    "starting_phrase = random.choice(list(word_dict))\n",
    "word = random.choice(word_dict[starting_phrase])\n",
    "new_tweet = str(starting_phrase+' '+word).capitalize()\n",
    "\n",
    "while len(new_tweet)<140:\n",
    "    starting_phrase = new_tweet.split()[-2]+' '+new_tweet.split()[-1]\n",
    "    try:\n",
    "        word = random.choice(word_dict[starting_phrase])\n",
    "    except:\n",
    "        starting_phrase = random.choice(list(word_dict))\n",
    "        word = random.choice(word_dict[starting_phrase])\n",
    "    new_tweet += ' '+word\n",
    "    if new_tweet[-1] == '.':\n",
    "        break\n",
    "print(new_tweet)"
   ]
  },
  {
   "cell_type": "markdown",
   "metadata": {},
   "source": [
    "30.Run the last several lines of code several times. Copy and paste the new_tweet that sounds most realistic below."
   ]
  },
  {
   "cell_type": "code",
   "execution_count": 28,
   "metadata": {
    "collapsed": true
   },
   "outputs": [],
   "source": [
    "#insert 30\n",
    "#Knowledge, is the genesis of this presidency aren't reported about."
   ]
  }
 ],
 "metadata": {
  "kernelspec": {
   "display_name": "Python 3",
   "language": "python",
   "name": "python3"
  },
  "language_info": {
   "codemirror_mode": {
    "name": "ipython",
    "version": 3
   },
   "file_extension": ".py",
   "mimetype": "text/x-python",
   "name": "python",
   "nbconvert_exporter": "python",
   "pygments_lexer": "ipython3",
   "version": "3.6.1"
  }
 },
 "nbformat": 4,
 "nbformat_minor": 1
}
